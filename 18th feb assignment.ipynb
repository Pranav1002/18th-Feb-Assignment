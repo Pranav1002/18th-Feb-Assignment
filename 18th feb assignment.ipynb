{
 "cells": [
  {
   "cell_type": "code",
   "execution_count": 1,
   "id": "89435f30-b07a-4c35-9cd6-c6115672c6d2",
   "metadata": {},
   "outputs": [
    {
     "data": {
      "text/plain": [
       "'\\n---> API(Application Programming Interface) is a set of defined rules that enable different applications to communicate with each other.\\nEx:\\n---> We can take the example of zomato it shows tracing of our order on map. it uses API of Google map.\\n'"
      ]
     },
     "execution_count": 1,
     "metadata": {},
     "output_type": "execute_result"
    }
   ],
   "source": [
    "#1) What is an API? Give an example, where an API is used in real life.\n",
    "'''\n",
    "---> API(Application Programming Interface) is a set of defined rules that enable different applications to communicate with each other.\n",
    "Ex:\n",
    "---> We can take the example of zomato it shows tracing of our order on map. it uses API of Google map.\n",
    "'''"
   ]
  },
  {
   "cell_type": "code",
   "execution_count": 2,
   "id": "fda29d87-63fb-4d10-a2b2-e70b55633aef",
   "metadata": {},
   "outputs": [
    {
     "data": {
      "text/plain": [
       "'\\n# Advantages\\n---> Access to APIs ensures more flexibility in information-transfer processes.\\n---> APIs let you create layers in apps in order to distribute information to different audiences.\\n---> Furthermore, it can serve as a solution to create different experiences for users, letting protocols, functions, and commands be adapted according to specific demands.\\n---> When you have content that is automatically published and made available on different channels simultaneously, APIs allow for more efficient data distribution.\\n---> One of the greatest benefits of APIs is the ability it has to adapt to changes through data migration and flexibility of services.\\n\\n# Disadvantages\\n--->Creating API is a very time-consuming process\\n--->A fixed scale is necessary\\n--->Imprecise boundary delineation\\n--->To create API, programming knowledge is necessary\\n--->Maintenance cost is very high\\n--->It can crash when testing API\\n'"
      ]
     },
     "execution_count": 2,
     "metadata": {},
     "output_type": "execute_result"
    }
   ],
   "source": [
    "#2) Give advantages and disadvantages of using API.\n",
    "'''\n",
    "# Advantages\n",
    "---> Access to APIs ensures more flexibility in information-transfer processes.\n",
    "---> APIs let you create layers in apps in order to distribute information to different audiences.\n",
    "---> Furthermore, it can serve as a solution to create different experiences for users, letting protocols, functions, and commands be adapted according to specific demands.\n",
    "---> When you have content that is automatically published and made available on different channels simultaneously, APIs allow for more efficient data distribution.\n",
    "---> One of the greatest benefits of APIs is the ability it has to adapt to changes through data migration and flexibility of services.\n",
    "\n",
    "# Disadvantages\n",
    "--->Creating API is a very time-consuming process\n",
    "--->A fixed scale is necessary\n",
    "--->Imprecise boundary delineation\n",
    "--->To create API, programming knowledge is necessary\n",
    "--->Maintenance cost is very high\n",
    "--->It can crash when testing API\n",
    "'''"
   ]
  },
  {
   "cell_type": "code",
   "execution_count": 3,
   "id": "d24c2444-4735-4004-b96f-9e8cb097eafe",
   "metadata": {},
   "outputs": [
    {
     "data": {
      "text/plain": [
       "\"\\n---> A Web API is an application programming interface for the Web.\\n---> API is an interface that exposes an application's data to outside software, whereas web applications are one type of API with stricter requirements.\\n\""
      ]
     },
     "execution_count": 3,
     "metadata": {},
     "output_type": "execute_result"
    }
   ],
   "source": [
    "#3) What is a Web API? Differentiate between API and Web API.\n",
    "'''\n",
    "---> A Web API is an application programming interface for the Web.\n",
    "---> API is an interface that exposes an application's data to outside software, whereas web applications are one type of API with stricter requirements.\n",
    "'''"
   ]
  },
  {
   "cell_type": "code",
   "execution_count": 4,
   "id": "32f0b475-ccaf-4c23-ae28-a1837d4425e6",
   "metadata": {},
   "outputs": [
    {
     "data": {
      "text/plain": [
       "'\\n# SOAP\\n---> SOAP is a protocol which was designed before REST came into the picture. The main idea behind creating SOAP was to ensure that programs built on different platforms and programming languages could securely exchange data.\\n\\n# REST\\n---> This was designed specifically for working with components such as media components, files, or even objects on a particular hardware device. Any web service which is defined on the principles of REST can be called a RESTful web service. REST uses the normal HTTP verbs of GET, POST, PUT and DELETE for working with the required components.\\n\\n#Shortcoming of SOAP\\n---> As SOAP can only transfer messages as XML files, your SOAP API will be less performant.\\n\\n'"
      ]
     },
     "execution_count": 4,
     "metadata": {},
     "output_type": "execute_result"
    }
   ],
   "source": [
    "#4) Explain REST and SOAP Architecture. Mention shortcomings of SOAP.\n",
    "'''\n",
    "# SOAP\n",
    "---> SOAP is a protocol which was designed before REST came into the picture. The main idea behind creating SOAP was to ensure that programs built on different platforms and programming languages could securely exchange data.\n",
    "\n",
    "# REST\n",
    "---> This was designed specifically for working with components such as media components, files, or even objects on a particular hardware device. Any web service which is defined on the principles of REST can be called a RESTful web service. REST uses the normal HTTP verbs of GET, POST, PUT and DELETE for working with the required components.\n",
    "\n",
    "#Shortcoming of SOAP\n",
    "---> As SOAP can only transfer messages as XML files, your SOAP API will be less performant.\n",
    "\n",
    "'''"
   ]
  },
  {
   "cell_type": "code",
   "execution_count": null,
   "id": "b5124ce7-8b62-411d-8159-8840793e1911",
   "metadata": {},
   "outputs": [],
   "source": [
    "#5) Differentiate between REST and SOAP.\n",
    "'''\n",
    "# SOAP\n",
    "---> Simple Object Access Protocol\n",
    "---> Standardized protocol with pre-defined rules to follow.\n",
    "---> Function-driven \n",
    "---> Stateless by default, but it’s possible to make a SOAP API stateful.\n",
    "---> API calls cannot be cached.\n",
    "---> Only XML.\n",
    "\n",
    "# REST\n",
    "---> Representational State Transfer\n",
    "---> Architectural style with loose guidelines and recommendations.\n",
    "---> Data-driven\n",
    "---> Stateless (no server-side sessions).\n",
    "---> API calls can be cached.\n",
    "---> Plain text, HTML, XML, JSON, YAML, and others.\n",
    "'''"
   ]
  }
 ],
 "metadata": {
  "kernelspec": {
   "display_name": "Python 3 (ipykernel)",
   "language": "python",
   "name": "python3"
  },
  "language_info": {
   "codemirror_mode": {
    "name": "ipython",
    "version": 3
   },
   "file_extension": ".py",
   "mimetype": "text/x-python",
   "name": "python",
   "nbconvert_exporter": "python",
   "pygments_lexer": "ipython3",
   "version": "3.10.6"
  }
 },
 "nbformat": 4,
 "nbformat_minor": 5
}
